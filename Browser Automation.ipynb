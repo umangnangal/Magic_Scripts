{
 "cells": [
  {
   "cell_type": "code",
   "execution_count": 11,
   "metadata": {},
   "outputs": [
    {
     "name": "stdout",
     "output_type": "stream",
     "text": [
      "<RoboForm username=, password=, _csrf=67aaee70-59f7-46f4-94da-28566378b8bf>\n"
     ]
    }
   ],
   "source": [
    "import re\n",
    "from robobrowser import RoboBrowser\n",
    "\n",
    "# Browse to Rap Genius\n",
    "browser = RoboBrowser(history=True)\n",
    "browser.open('http://nxops-sa-5:8182/query/defects.htm?stream=iplus_dev-umagrawa&cid=54826&cid=353720&cid=353721&cid=353722&cid=353719')\n",
    "\n",
    "# Search for Queen\n",
    "form = browser.get_form(action='/login')\n",
    "print(form)\n",
    "form['username'].value = \"umagrawa@cisco.com\"\n",
    "form['password'].value = \"Logan@007\"\n",
    "browser.submit_form(form)"
   ]
  },
  {
   "cell_type": "code",
   "execution_count": null,
   "metadata": {},
   "outputs": [],
   "source": []
  }
 ],
 "metadata": {
  "kernelspec": {
   "display_name": "Python 3",
   "language": "python",
   "name": "python3"
  },
  "language_info": {
   "codemirror_mode": {
    "name": "ipython",
    "version": 3
   },
   "file_extension": ".py",
   "mimetype": "text/x-python",
   "name": "python",
   "nbconvert_exporter": "python",
   "pygments_lexer": "ipython3",
   "version": "3.7.3"
  }
 },
 "nbformat": 4,
 "nbformat_minor": 2
}
